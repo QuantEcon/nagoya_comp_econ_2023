{
 "cells": [
  {
   "cell_type": "markdown",
   "id": "b94efa27",
   "metadata": {},
   "source": [
    "# Accelerating Python\n",
    "\n",
    "[John Stachurski](http://johnstachurski.net)\n",
    "\n",
    "This notebook demonstrates ways of accelerating plain Python code in\n",
    "scientific applications.\n",
    "\n",
    "We begin by importing some libraries that will be discussed below."
   ]
  },
  {
   "cell_type": "code",
   "execution_count": null,
   "id": "b6ca073f",
   "metadata": {},
   "outputs": [],
   "source": [
    "import numpy as np\n",
    "from numpy.random import randn\n",
    "import numba \n",
    "from numba import vectorize, float64\n",
    "import matplotlib.pyplot as plt\n",
    "import jax\n",
    "import jax.numpy as jnp"
   ]
  },
  {
   "cell_type": "markdown",
   "id": "a5eff76e",
   "metadata": {},
   "source": [
    "## Problem 1: A Time Series Model\n",
    "\n",
    "Consider the time series model\n",
    "\n",
    "$$ x_{t+1} = \\alpha x_t (1 - x_t) $$\n",
    "\n",
    "\n",
    "Our aim is to generate time series from this model and analyze them.\n",
    "\n",
    "We will show how to accelerate this operation.\n",
    "\n",
    "To begin, let's set $\\alpha = 4$"
   ]
  },
  {
   "cell_type": "code",
   "execution_count": null,
   "id": "fb4377f5",
   "metadata": {},
   "outputs": [],
   "source": [
    "α = 4"
   ]
  },
  {
   "cell_type": "markdown",
   "id": "f9550734",
   "metadata": {},
   "source": [
    "Here's a typical time series:"
   ]
  },
  {
   "cell_type": "code",
   "execution_count": null,
   "id": "0b635848",
   "metadata": {},
   "outputs": [],
   "source": [
    "n = 200\n",
    "x =  np.empty(n)\n",
    "x[0] = 0.2\n",
    "for t in range(n-1):\n",
    "    x[t+1] = α * x[t] * (1 - x[t])\n",
    "    \n",
    "plt.plot(x)\n",
    "plt.show()"
   ]
  },
  {
   "cell_type": "markdown",
   "id": "dcd4bbb1",
   "metadata": {},
   "source": [
    "### Python Test"
   ]
  },
  {
   "cell_type": "markdown",
   "id": "7df1ac0d",
   "metadata": {},
   "source": [
    "Here's a function that iterates forward `n` times, starting from `x0`, and\n",
    "returns **the final** value:"
   ]
  },
  {
   "cell_type": "code",
   "execution_count": null,
   "id": "636a5968",
   "metadata": {},
   "outputs": [],
   "source": [
    "def quad(x0, n):\n",
    "    x = x0\n",
    "    for i in range(n):\n",
    "        x = α * x * (1 - x)\n",
    "    return x"
   ]
  },
  {
   "cell_type": "markdown",
   "id": "470bbe1e",
   "metadata": {},
   "source": [
    "Let's see how fast this runs:"
   ]
  },
  {
   "cell_type": "code",
   "execution_count": null,
   "id": "88ebceaf",
   "metadata": {},
   "outputs": [],
   "source": [
    "n = 10_000_000"
   ]
  },
  {
   "cell_type": "code",
   "execution_count": null,
   "id": "9aedd7c4",
   "metadata": {},
   "outputs": [],
   "source": [
    "%%time\n",
    "x = quad(0.2, n)"
   ]
  },
  {
   "cell_type": "markdown",
   "id": "9e2e9b4c",
   "metadata": {},
   "source": [
    "### Fortran Test"
   ]
  },
  {
   "cell_type": "markdown",
   "id": "c0a3e68f",
   "metadata": {},
   "source": [
    "Now let's try this in Fortran.\n",
    "\n",
    "Note --- this step is intended to be a demo and will only execute if\n",
    "\n",
    "* you have the file `fastquad.f90` in your pwd\n",
    "* you have a Fortran compiler installed and modify the compilation code below appropriately"
   ]
  },
  {
   "cell_type": "code",
   "execution_count": null,
   "id": "ddf659c3",
   "metadata": {},
   "outputs": [],
   "source": [
    "%%file fortran_quad.f90\n",
    "\n",
    "PURE FUNCTION QUAD(X0, N)\n",
    " IMPLICIT NONE\n",
    " INTEGER, PARAMETER :: DP=KIND(0.d0)                           \n",
    " REAL(dp), INTENT(IN) :: X0\n",
    " REAL(dp) :: QUAD\n",
    " INTEGER :: I\n",
    " INTEGER, INTENT(IN) :: N\n",
    " QUAD = X0\n",
    " DO I = 1, N - 1                                                \n",
    "  QUAD = 4.0_dp * QUAD * real(1.0_dp - QUAD, dp)\n",
    " END DO\n",
    " RETURN\n",
    "END FUNCTION QUAD\n",
    "\n",
    "PROGRAM MAIN\n",
    " IMPLICIT NONE\n",
    " INTEGER, PARAMETER :: DP=KIND(0.d0)                          \n",
    " REAL(dp) :: START, FINISH, X, QUAD\n",
    " INTEGER :: N\n",
    " N = 10000000\n",
    " X = QUAD(0.2_dp, 10)\n",
    " CALL CPU_TIME(START)\n",
    " X = QUAD(0.2_dp, N)\n",
    " CALL CPU_TIME(FINISH)\n",
    " PRINT *,'last val = ', X\n",
    " PRINT *,'Elapsed time in milliseconds = ', (FINISH-START) * 1000\n",
    "END PROGRAM MAIN"
   ]
  },
  {
   "cell_type": "code",
   "execution_count": null,
   "id": "91e90b2c",
   "metadata": {},
   "outputs": [],
   "source": [
    "!gfortran -O3 fortran_quad.f90"
   ]
  },
  {
   "cell_type": "code",
   "execution_count": null,
   "id": "f892cdba",
   "metadata": {},
   "outputs": [],
   "source": [
    "!./a.out"
   ]
  },
  {
   "cell_type": "code",
   "execution_count": null,
   "id": "ace565d2",
   "metadata": {},
   "outputs": [],
   "source": [
    "!rm a.out"
   ]
  },
  {
   "cell_type": "markdown",
   "id": "f2adb8d4",
   "metadata": {},
   "source": [
    "### Codon\n",
    "\n",
    "Let's try `codon`, an AOT Python compiler\n",
    "\n",
    "First we install it --- if not yet installed, please uncomment"
   ]
  },
  {
   "cell_type": "code",
   "execution_count": null,
   "id": "a9c7b595",
   "metadata": {},
   "outputs": [],
   "source": [
    "# !/bin/bash -c \"$(curl -fsSL https://exaloop.io/install.sh)\""
   ]
  },
  {
   "cell_type": "markdown",
   "id": "2b8bbf77",
   "metadata": {},
   "source": [
    "Now we write Python code to a file."
   ]
  },
  {
   "cell_type": "code",
   "execution_count": null,
   "id": "262350cc",
   "metadata": {},
   "outputs": [],
   "source": [
    "%%file codon_quad.py\n",
    "\n",
    "from time import time\n",
    "\n",
    "n = 10_000_000\n",
    "alpha = 4.0\n",
    "\n",
    "def quad(x0, n):\n",
    "    x = x0\n",
    "    for i in range(1, n):\n",
    "        x = alpha * x * (1 - x)\n",
    "    return x\n",
    "\n",
    "\n",
    "t0 = time()\n",
    "x = quad(0.1, n)\n",
    "t1 = time()\n",
    "print(x)\n",
    "print(\"Elapsed time in milliseconds: \", (t1 - t0) * 1000)"
   ]
  },
  {
   "cell_type": "markdown",
   "id": "b70b3a9d",
   "metadata": {},
   "source": [
    "Next we compile the Python code to build an executable."
   ]
  },
  {
   "cell_type": "code",
   "execution_count": null,
   "id": "f6b75829",
   "metadata": {},
   "outputs": [],
   "source": [
    "!codon build --release --exe codon_quad.py"
   ]
  },
  {
   "cell_type": "markdown",
   "id": "703d1789",
   "metadata": {},
   "source": [
    "Now let's run it."
   ]
  },
  {
   "cell_type": "code",
   "execution_count": null,
   "id": "a839c8d4",
   "metadata": {},
   "outputs": [],
   "source": [
    "!./codon_quad"
   ]
  },
  {
   "cell_type": "markdown",
   "id": "d6425992",
   "metadata": {},
   "source": [
    "Tidying up:"
   ]
  },
  {
   "cell_type": "code",
   "execution_count": null,
   "id": "e6729b43",
   "metadata": {},
   "outputs": [],
   "source": [
    "!rm codon_quad"
   ]
  },
  {
   "cell_type": "code",
   "execution_count": null,
   "id": "8bf64272",
   "metadata": {},
   "outputs": [],
   "source": []
  },
  {
   "cell_type": "markdown",
   "id": "e341b2e7",
   "metadata": {},
   "source": [
    "### Python + Numba"
   ]
  },
  {
   "cell_type": "markdown",
   "id": "55e0cb8a",
   "metadata": {},
   "source": [
    "Now let's replicate the calculations using Numba's JIT compiler.\n",
    "\n",
    "Here's the Python function we want to speed up"
   ]
  },
  {
   "cell_type": "code",
   "execution_count": null,
   "id": "dad3abe7",
   "metadata": {},
   "outputs": [],
   "source": [
    "@numba.jit\n",
    "def quad(x0, n):\n",
    "    x = x0\n",
    "    for i in range(1, n):\n",
    "        x = α * x * (1 - x)\n",
    "    return x"
   ]
  },
  {
   "cell_type": "markdown",
   "id": "7f34ef3b",
   "metadata": {},
   "source": [
    "This is the same as before except that we've targeted the function for JIT\n",
    "compilation with `@numba.jit`.\n",
    "\n",
    "Let's see how fast it runs."
   ]
  },
  {
   "cell_type": "code",
   "execution_count": null,
   "id": "ae423c3e",
   "metadata": {},
   "outputs": [],
   "source": [
    "%%time\n",
    "x = quad(0.2, n)"
   ]
  },
  {
   "cell_type": "code",
   "execution_count": null,
   "id": "73732d39",
   "metadata": {},
   "outputs": [],
   "source": [
    "%%time\n",
    "x = quad(0.2, n)"
   ]
  },
  {
   "cell_type": "markdown",
   "id": "5830e2d6",
   "metadata": {},
   "source": [
    "## Problem 2: Multivariate Optimization\n",
    "\n",
    "The problem is to maximize the function \n",
    "\n",
    "$$ f(x, y) = \\frac{\\cos \\left(x^2 + y^2 \\right)}{1 + x^2 + y^2} + 1$$\n",
    "\n",
    "using brute force --- searching over a grid of $(x, y)$ pairs."
   ]
  },
  {
   "cell_type": "code",
   "execution_count": null,
   "id": "6041d029",
   "metadata": {},
   "outputs": [],
   "source": [
    "def f(x, y):\n",
    "    return np.cos(x**2 + y**2) / (1 + x**2 + y**2) + 1"
   ]
  },
  {
   "cell_type": "code",
   "execution_count": null,
   "id": "0d75a5a4",
   "metadata": {},
   "outputs": [],
   "source": [
    "from mpl_toolkits.mplot3d.axes3d import Axes3D\n",
    "from matplotlib import cm\n",
    "\n",
    "gridsize = 50\n",
    "gmin, gmax = -3, 3\n",
    "xgrid = np.linspace(gmin, gmax, gridsize)\n",
    "ygrid = xgrid\n",
    "x, y = np.meshgrid(xgrid, ygrid)\n",
    "\n",
    "# === plot value function === #\n",
    "fig = plt.figure(figsize=(8, 6))\n",
    "ax = fig.add_subplot(111, projection='3d')\n",
    "ax.plot_surface(x,\n",
    "                y,\n",
    "                f(x, y),\n",
    "                rstride=2, cstride=2,\n",
    "                cmap=cm.jet,\n",
    "                alpha=0.4,\n",
    "                linewidth=0.05)\n",
    "\n",
    "\n",
    "ax.scatter(x, y, c='k', s=0.6)\n",
    "\n",
    "ax.scatter(x, y, f(x, y), c='k', s=0.6)\n",
    "\n",
    "ax.view_init(25, -57)\n",
    "ax.set_zlim(-0, 2.0)\n",
    "ax.set_xlim(gmin, gmax)\n",
    "ax.set_ylim(gmin, gmax)\n",
    "\n",
    "plt.show()"
   ]
  },
  {
   "cell_type": "markdown",
   "id": "645a7ebf",
   "metadata": {},
   "source": [
    "Let's try a few different methods to make it fast.\n",
    "\n",
    "\n",
    "\n",
    "### Vectorized Numpy"
   ]
  },
  {
   "cell_type": "code",
   "execution_count": null,
   "id": "0a553b05",
   "metadata": {},
   "outputs": [],
   "source": [
    "grid = np.linspace(-3, 3, 10000)\n",
    "\n",
    "x, y = np.meshgrid(grid, grid)"
   ]
  },
  {
   "cell_type": "code",
   "execution_count": null,
   "id": "99aa16b6",
   "metadata": {},
   "outputs": [],
   "source": [
    "%%time\n",
    "\n",
    "np.max(f(x, y))"
   ]
  },
  {
   "cell_type": "markdown",
   "id": "92a91ad2",
   "metadata": {},
   "source": [
    "### JITTed code\n",
    "\n",
    "\n",
    "A jitted version"
   ]
  },
  {
   "cell_type": "code",
   "execution_count": null,
   "id": "db5ea550",
   "metadata": {},
   "outputs": [],
   "source": [
    "@numba.jit\n",
    "def compute_max():\n",
    "    m = -np.inf\n",
    "    for x in grid:\n",
    "        for y in grid:\n",
    "            z = np.cos(x**2 + y**2) / (1 + x**2 + y**2) + 1\n",
    "            if z > m:\n",
    "                m = z\n",
    "    return m"
   ]
  },
  {
   "cell_type": "code",
   "execution_count": null,
   "id": "f6efdb8b",
   "metadata": {},
   "outputs": [],
   "source": [
    "compute_max()"
   ]
  },
  {
   "cell_type": "code",
   "execution_count": null,
   "id": "8db0593f",
   "metadata": {},
   "outputs": [],
   "source": [
    "%%time\n",
    "compute_max()"
   ]
  },
  {
   "cell_type": "markdown",
   "id": "b09c2e9e",
   "metadata": {},
   "source": [
    "### Vectorized Numba on the CPU\n",
    "\n",
    "\n",
    "Numba for vectorization with automatic parallelization;"
   ]
  },
  {
   "cell_type": "code",
   "execution_count": null,
   "id": "dea117de",
   "metadata": {},
   "outputs": [],
   "source": [
    "@vectorize('float64(float64, float64)', target='parallel')\n",
    "def f_par(x, y):\n",
    "    return np.cos(x**2 + y**2) / (1 + x**2 + y**2) + 1"
   ]
  },
  {
   "cell_type": "code",
   "execution_count": null,
   "id": "4058a62a",
   "metadata": {},
   "outputs": [],
   "source": [
    "x, y = np.meshgrid(grid, grid)\n",
    "\n",
    "np.max(f_par(x, y))"
   ]
  },
  {
   "cell_type": "code",
   "execution_count": null,
   "id": "93baa1f2",
   "metadata": {},
   "outputs": [],
   "source": [
    "%%time\n",
    "np.max(f_par(x, y))"
   ]
  },
  {
   "cell_type": "markdown",
   "id": "9f95841e",
   "metadata": {},
   "source": [
    "### JAX on the GPU\n",
    "\n",
    "Now let's try JAX.\n",
    "\n",
    "This code will work well if you have a GPU and JAX configured to use it.\n",
    "\n",
    "Let's see what we have available."
   ]
  },
  {
   "cell_type": "code",
   "execution_count": null,
   "id": "52590ae0",
   "metadata": {},
   "outputs": [],
   "source": [
    "!nvidia-smi"
   ]
  },
  {
   "cell_type": "markdown",
   "id": "5da70498",
   "metadata": {},
   "source": [
    "Warning --- you need a GPU with relatively large memory for this to work."
   ]
  },
  {
   "cell_type": "code",
   "execution_count": null,
   "id": "7f7dcd30",
   "metadata": {},
   "outputs": [],
   "source": [
    "def f(x, y):\n",
    "    return jnp.cos(x**2 + y**2) / (1 + x**2 + y**2) + 1"
   ]
  },
  {
   "cell_type": "code",
   "execution_count": null,
   "id": "7dc0b2f4",
   "metadata": {},
   "outputs": [],
   "source": [
    "grid = np.linspace(-3, 3, 10000)\n",
    "\n",
    "x, y = jnp.meshgrid(grid, grid)"
   ]
  },
  {
   "cell_type": "markdown",
   "id": "295b4f5f",
   "metadata": {},
   "source": [
    "Here's our timing."
   ]
  },
  {
   "cell_type": "code",
   "execution_count": null,
   "id": "ca9fc481",
   "metadata": {},
   "outputs": [],
   "source": [
    "%%time\n",
    "\n",
    "jnp.max(f(x, y))"
   ]
  },
  {
   "cell_type": "code",
   "execution_count": null,
   "id": "33f15daa",
   "metadata": {},
   "outputs": [],
   "source": [
    "@jax.jit\n",
    "def f(x, y):\n",
    "    return jnp.cos(x**2 + y**2) / (1 + x**2 + y**2) + 1"
   ]
  },
  {
   "cell_type": "markdown",
   "id": "5b1879a4",
   "metadata": {},
   "source": [
    "Let's JIT-compile the function and see if anything changes."
   ]
  },
  {
   "cell_type": "code",
   "execution_count": null,
   "id": "d83a54bd",
   "metadata": {},
   "outputs": [],
   "source": [
    "%%time\n",
    "\n",
    "jnp.max(f(x, y))"
   ]
  },
  {
   "cell_type": "code",
   "execution_count": null,
   "id": "38436176",
   "metadata": {},
   "outputs": [],
   "source": [
    "%%time\n",
    "\n",
    "jnp.max(f(x, y))"
   ]
  },
  {
   "cell_type": "markdown",
   "id": "bf4691fb",
   "metadata": {},
   "source": [
    "## Problem 3: Monte Carlo\n",
    "\n",
    "\n",
    "In this section we describe the Monte Carlo method of integration via a simple\n",
    "example.\n",
    "\n",
    "### Share Price with Known Distribution\n",
    "\n",
    "Let's suppose that we are considering buying a share (or many shares) in a\n",
    "given company.\n",
    "\n",
    "Our plan is either to \n",
    "\n",
    "* buy it now, hold it for one year and then sell it, or\n",
    "* do something else with our money.\n",
    "\n",
    "We start by thinking of the share price in one year as a random variable $S$.\n",
    "\n",
    "(Let's forget about dividends for now, so that our return on holding the share\n",
    "is the relative change in its price.)\n",
    "\n",
    "To decide whether or not to go ahead, we need to know some features of the\n",
    "distribution of $S$.\n",
    "\n",
    "For example, we might decide to buy if the mean is high and the variance is\n",
    "low.\n",
    "\n",
    "(High expected returns and low risk.)\n",
    "\n",
    "Suppose that, after analyzing the data, we have decided that $S$ is well\n",
    "represented by a lognormal distribution with parameters $\\mu, \\sigma$ .\n",
    "\n",
    "* $S$ has the same distribution as $\\exp(\\mu + \\sigma Z)$ where $Z$ is standard normal.\n",
    "* we write this statement as $S \\sim LN(\\mu, \\sigma)$.\n",
    "\n",
    "Any good reference on statistics will tell us that the mean and variance are\n",
    "\n",
    "$$\n",
    "    \\mathbb E S \n",
    "        = \\exp \\left(\\mu + \\frac{\\sigma^2}{2} \\right)\n",
    "$$\n",
    "\n",
    "and \n",
    "\n",
    "$$ \n",
    "    \\mathop{\\mathrm{Var}} S \n",
    "    = [\\exp(\\sigma^2) - 1] \\exp(2\\mu + \\sigma^2)\n",
    "$$\n",
    "\n",
    "So far we have no need for a computer.\n",
    "\n",
    "\n",
    "### Share Price with Unknown Distribution\n",
    "\n",
    "But now suppose that we study the distribution of $S$ more carefully, leading\n",
    "us to decompose the price into multiple factors.\n",
    "\n",
    "In particular, we conclude that the share price depends on three variables,\n",
    "with\n",
    "\n",
    "$$\n",
    "    S = (X_1 + X_2 + X_3)^p\n",
    "$$\n",
    "\n",
    "We assume that\n",
    "\n",
    "* $p$ is a positive number, which is known to us,\n",
    "* $X_i \\sim LN(\\mu_i, \\sigma_i)$ for $i=1,2,3$,\n",
    "* the values of $\\mu_i, \\sigma_i$ have all been estimated, and\n",
    "* the random variables $X_1$, $X_2$ and $X_3$ are independent.\n",
    "\n",
    "How should we compute the mean of $S$?\n",
    "\n",
    "To do this with pencil and paper is hard (unless, say, $p=1$).\n",
    "\n",
    "But fortunately there's an easy way to do this, at least approximately:\n",
    "\n",
    "1. Generate $n$ independent draws of $X_1$, $X_2$ and $X_3$ on a computer,\n",
    "1. Use these draws to generate $n$ independent draws of $S$, and\n",
    "1. Take the average value of these draws of $S$.\n",
    "\n",
    "By the law of large numbers, this average will be close to the true mean when\n",
    "$n$ is large.\n",
    "\n",
    "We use the following values for $p$ and each $\\mu_i$ and $\\sigma_i$."
   ]
  },
  {
   "cell_type": "code",
   "execution_count": null,
   "id": "7ef4a029",
   "metadata": {},
   "outputs": [],
   "source": [
    "n = 10_000_000\n",
    "p = 0.5\n",
    "μ_1, μ_2, μ_3 = 0.2, 0.8, 0.4\n",
    "σ_1, σ_2, σ_3 = 0.1, 0.05, 0.2"
   ]
  },
  {
   "cell_type": "markdown",
   "id": "f82b786a",
   "metadata": {},
   "source": [
    "### A Routine using Loops in Python"
   ]
  },
  {
   "cell_type": "markdown",
   "id": "73648594",
   "metadata": {},
   "source": [
    "Here's a routine using native Python loops to calculate the desired mean\n",
    "\n",
    "$$\n",
    "    \\frac{1}{n} \\sum_{i=1}^n S_i\n",
    "    \\approx \\mathbb E S\n",
    "$$"
   ]
  },
  {
   "cell_type": "code",
   "execution_count": null,
   "id": "51a66f6c",
   "metadata": {},
   "outputs": [],
   "source": [
    "def compute_mean(n=10_000_000):\n",
    "    S = 0.0\n",
    "    for i in range(n):\n",
    "        X_1 = np.exp(μ_1 + σ_1 * randn())\n",
    "        X_2 = np.exp(μ_2 + σ_2 * randn())\n",
    "        X_3 = np.exp(μ_3 + σ_3 * randn())\n",
    "        S += (X_1 + X_2 + X_3)**p\n",
    "    return(S / n)"
   ]
  },
  {
   "cell_type": "markdown",
   "id": "81bcfae3",
   "metadata": {},
   "source": [
    "Let's test it and see how long it takes."
   ]
  },
  {
   "cell_type": "code",
   "execution_count": null,
   "id": "3c2b8960",
   "metadata": {},
   "outputs": [],
   "source": [
    "%%time\n",
    "\n",
    "compute_mean()"
   ]
  },
  {
   "cell_type": "markdown",
   "id": "1842c7b2",
   "metadata": {},
   "source": [
    "### Using Numba's JIT Compiler"
   ]
  },
  {
   "cell_type": "code",
   "execution_count": null,
   "id": "18ddbdbf",
   "metadata": {},
   "outputs": [],
   "source": [
    "compute_mean_numba = numba.jit(compute_mean)"
   ]
  },
  {
   "cell_type": "code",
   "execution_count": null,
   "id": "3dac2d50",
   "metadata": {},
   "outputs": [],
   "source": [
    "%%time\n",
    "\n",
    "compute_mean_numba()"
   ]
  },
  {
   "cell_type": "code",
   "execution_count": null,
   "id": "771c4996",
   "metadata": {},
   "outputs": [],
   "source": [
    "%%time\n",
    "\n",
    "compute_mean_numba()"
   ]
  },
  {
   "cell_type": "markdown",
   "id": "645bb418",
   "metadata": {},
   "source": [
    "### A Vectorized Routine"
   ]
  },
  {
   "cell_type": "markdown",
   "id": "d38cd2b1",
   "metadata": {},
   "source": [
    "Now we implement a vectorized routine using traditional NumPy array processing."
   ]
  },
  {
   "cell_type": "code",
   "execution_count": null,
   "id": "ea0b7d40",
   "metadata": {},
   "outputs": [],
   "source": [
    "def compute_mean_vectorized(n=10_000_000):\n",
    "    X_1 = np.exp(μ_1 + σ_1 * randn(n))\n",
    "    X_2 = np.exp(μ_2 + σ_2 * randn(n))\n",
    "    X_3 = np.exp(μ_3 + σ_3 * randn(n))\n",
    "    S = (X_1 + X_2 + X_3)**p\n",
    "    return(S.mean())"
   ]
  },
  {
   "cell_type": "code",
   "execution_count": null,
   "id": "fde98872",
   "metadata": {},
   "outputs": [],
   "source": [
    "%%time\n",
    "\n",
    "compute_mean_vectorized()"
   ]
  },
  {
   "cell_type": "markdown",
   "id": "3304a4eb",
   "metadata": {},
   "source": [
    "### Using Google JAX\n",
    "\n",
    "\n",
    "Finally, let's try to shift this to the GPU and parallelize it effectively."
   ]
  },
  {
   "cell_type": "code",
   "execution_count": null,
   "id": "2c61565c",
   "metadata": {},
   "outputs": [],
   "source": [
    "!nvidia-smi"
   ]
  },
  {
   "cell_type": "code",
   "execution_count": null,
   "id": "1ca94871",
   "metadata": {
    "tags": []
   },
   "outputs": [],
   "source": [
    "def compute_mean_jax(n=10_000_000):\n",
    "    key = jax.random.PRNGKey(1)\n",
    "    Z = jax.random.normal(key, (3, n))\n",
    "    X_1 = jnp.exp(μ_1 + σ_1 * Z[0,:])\n",
    "    X_2 = jnp.exp(μ_2 + σ_2 * Z[1,:])\n",
    "    X_3 = jnp.exp(μ_3 + σ_3 * Z[2,:])\n",
    "    S = (X_1 + X_2 + X_3)**p\n",
    "    return(S.mean())"
   ]
  },
  {
   "cell_type": "code",
   "execution_count": null,
   "id": "343004fc",
   "metadata": {},
   "outputs": [],
   "source": [
    "%%time\n",
    "\n",
    "compute_mean_jax()"
   ]
  },
  {
   "cell_type": "code",
   "execution_count": null,
   "id": "acec1aab",
   "metadata": {},
   "outputs": [],
   "source": [
    "compute_mean_jax_jitted = jax.jit(compute_mean_jax)"
   ]
  },
  {
   "cell_type": "code",
   "execution_count": null,
   "id": "1cc5c6f0",
   "metadata": {},
   "outputs": [],
   "source": [
    "%%time\n",
    "\n",
    "compute_mean_jax_jitted()"
   ]
  },
  {
   "cell_type": "code",
   "execution_count": null,
   "id": "baed3e74",
   "metadata": {},
   "outputs": [],
   "source": [
    "%%time\n",
    "\n",
    "compute_mean_jax_jitted()"
   ]
  }
 ],
 "metadata": {
  "kernelspec": {
   "display_name": "Python 3 (ipykernel)",
   "language": "python",
   "name": "python3"
  }
 },
 "nbformat": 4,
 "nbformat_minor": 5
}
