{
 "cells": [
  {
   "cell_type": "markdown",
   "id": "9635cc1e",
   "metadata": {},
   "source": [
    "# Equilibrium"
   ]
  },
  {
   "cell_type": "markdown",
   "id": "37e77662",
   "metadata": {},
   "source": [
    "#### Author: [John Stachurski](http://johnstachurski.net/)"
   ]
  },
  {
   "cell_type": "markdown",
   "id": "1f600731",
   "metadata": {},
   "source": [
    "In this notebook we solve a very simple market equilibrium problem.\n",
    "\n",
    "Supply and demand are nonlinear and we use Newton's root-finding algorithm to solve for equilibrium prices.\n",
    "\n",
    "We use the following imports:"
   ]
  },
  {
   "cell_type": "code",
   "execution_count": null,
   "id": "c5ca273a",
   "metadata": {},
   "outputs": [],
   "source": [
    "import numpy as np\n",
    "import matplotlib.pyplot as plt"
   ]
  },
  {
   "cell_type": "markdown",
   "id": "2c3f3325",
   "metadata": {},
   "source": [
    "## Prelude: A Note on Root-Finding"
   ]
  },
  {
   "cell_type": "markdown",
   "id": "cecb27c5",
   "metadata": {},
   "source": [
    "If $f$ maps an interval $(a, b)$ into $\\mathbb R$, then a **root** of the function $f$ is an $x^* \\in (a,b)$ with $f(x^*)=0$.\n",
    "\n",
    "A common method for root finding is Newton's algorithm.\n",
    "\n",
    "We start with a guess $x_0 \\in (a, b)$.\n",
    "\n",
    "Then we replace $f$ with the tangent function $f_a(x) = f(x_0) + f'(x_0)(x - x_0)$ and solve for the root of $f_a$ (which can be done exactly).\n",
    "\n",
    "Calling the root $x_1$, we have\n",
    "\n",
    "$$ \n",
    "    f_a(x_1)=0\n",
    "    \\quad \\iff \\quad\n",
    "    x_1 = x_0 - \\frac{f(x_0)}{f'(x_0)} \n",
    "$$\n",
    "\n",
    "This is our update rule:\n",
    "\n",
    "$$\n",
    "    x_{k+1} = q(x_k)\n",
    "    \\quad \\text{where} \\quad\n",
    "    q(x) := x - \\frac{f(x)}{f'(x)} \n",
    "$$"
   ]
  },
  {
   "cell_type": "markdown",
   "id": "544401ac",
   "metadata": {},
   "source": [
    "The algorithm is implemented in `scipy.optimize`"
   ]
  },
  {
   "cell_type": "code",
   "execution_count": null,
   "id": "8db2593e",
   "metadata": {},
   "outputs": [],
   "source": [
    "from scipy.optimize import newton"
   ]
  },
  {
   "cell_type": "markdown",
   "id": "5c4aa56f",
   "metadata": {},
   "source": [
    "Let's apply this to find the positive root of $f(x) = x^2 - 1$."
   ]
  },
  {
   "cell_type": "code",
   "execution_count": null,
   "id": "4fe1ee46",
   "metadata": {},
   "outputs": [],
   "source": [
    "def f(x):\n",
    "    return x**2 - 1\n",
    "\n",
    "x_grid = np.linspace(-1, 2, 200)\n",
    "fig, ax = plt.subplots()\n",
    "ax.plot(x_grid, f(x_grid), label=\"$f$\")\n",
    "ax.plot(x_grid, np.zeros_like(x_grid), \"k--\")\n",
    "ax.legend()\n",
    "plt.show()\n"
   ]
  },
  {
   "cell_type": "markdown",
   "id": "fb50e54f",
   "metadata": {},
   "source": [
    "Here we call `newton`."
   ]
  },
  {
   "cell_type": "code",
   "execution_count": null,
   "id": "e46f42f6",
   "metadata": {},
   "outputs": [],
   "source": [
    "newton(f, 0.5)   # search for root of f starting at x_0 = 0.5"
   ]
  },
  {
   "cell_type": "markdown",
   "id": "07b4e4d2",
   "metadata": {},
   "source": [
    "In the last call we didn't supply the gradient of $f$, so it was approximated\n",
    "numerically.  \n",
    "\n",
    "We can supply it as follows:"
   ]
  },
  {
   "cell_type": "code",
   "execution_count": null,
   "id": "27730ea6",
   "metadata": {},
   "outputs": [],
   "source": [
    "def f_prime(x):\n",
    "    return 2 * x\n",
    "\n",
    "newton(lambda x: x**2 - 1, 0.5, fprime=f_prime)"
   ]
  },
  {
   "cell_type": "markdown",
   "id": "ecc7e14c",
   "metadata": {},
   "source": [
    "## The Market"
   ]
  },
  {
   "cell_type": "markdown",
   "id": "2f359c23",
   "metadata": {},
   "source": [
    "Now let's consider a market for coffee beans.  The price per kilo is $p$.  Total supply at price $p$ is\n",
    "\n",
    "$$ q_s (p) = b \\sqrt{p} $$\n",
    "\n",
    "and total demand is \n",
    "\n",
    "$$ q_d (p) = a \\exp(-p) + c, $$\n",
    "\n",
    "where $a, b$ and $c$ are positive parameters."
   ]
  },
  {
   "cell_type": "markdown",
   "id": "73511017",
   "metadata": {},
   "source": [
    "Now we write routines to compute supply and demand as functions of price and parameters.\n",
    "\n",
    "We take $a=1$, $b=0.5$ and $c=1$ as \"default\" parameter values."
   ]
  },
  {
   "cell_type": "code",
   "execution_count": null,
   "id": "2d0497f1",
   "metadata": {},
   "outputs": [],
   "source": [
    "def supply(p, b=0.5):\n",
    "    return b * np.sqrt(p)\n",
    "\n",
    "def demand(p, a=1, c=1):\n",
    "    return a * np.exp(-p) + c"
   ]
  },
  {
   "cell_type": "markdown",
   "id": "3a246cb9",
   "metadata": {},
   "source": [
    "Now we can call the functions as follows:"
   ]
  },
  {
   "cell_type": "code",
   "execution_count": null,
   "id": "f4474694",
   "metadata": {},
   "outputs": [],
   "source": [
    "demand(2.0)  # with a and c at defaults"
   ]
  },
  {
   "cell_type": "code",
   "execution_count": null,
   "id": "23425edb",
   "metadata": {},
   "outputs": [],
   "source": [
    "demand(2.0, a=0.4)  # a is specified and c remains at its defaults"
   ]
  },
  {
   "cell_type": "markdown",
   "id": "d4f32a0f",
   "metadata": {},
   "source": [
    "etc."
   ]
  },
  {
   "cell_type": "markdown",
   "id": "0eef5ee8",
   "metadata": {},
   "source": [
    "Note that these functions are automatically NumPy \"universal functions\":"
   ]
  },
  {
   "cell_type": "code",
   "execution_count": null,
   "id": "4b506333",
   "metadata": {},
   "outputs": [],
   "source": [
    "p_vals = np.array((0.5, 1.0, 1.5))\n",
    "supply(p_vals)"
   ]
  },
  {
   "cell_type": "code",
   "execution_count": null,
   "id": "8f84fa35",
   "metadata": {},
   "outputs": [],
   "source": [
    "demand(p_vals)"
   ]
  },
  {
   "cell_type": "markdown",
   "id": "7c857fa9",
   "metadata": {},
   "source": [
    "### Exercise 1\n",
    "\n",
    "Plot both supply and demand as functions of $p$ on the interval $[0, 10]$ at the default parameters.\n",
    "\n",
    "* Put price on the horizonal axis.  \n",
    "* Use a legend to label the two functions and be sure to label the axes.  \n",
    "* Make a rough estimate of the equilibrium price, where demand equals supply."
   ]
  },
  {
   "cell_type": "code",
   "execution_count": null,
   "id": "9520eda0",
   "metadata": {},
   "outputs": [],
   "source": [
    "# Put your code here"
   ]
  },
  {
   "cell_type": "markdown",
   "id": "991df023",
   "metadata": {},
   "source": [
    "solution below\n",
    "\n",
    "solution below\n",
    "\n",
    "solution below\n",
    "\n",
    "solution below\n",
    "\n",
    "solution below\n",
    "\n",
    "solution below\n",
    "\n",
    "solution below\n",
    "\n",
    "solution below\n",
    "\n",
    "solution below\n",
    "\n",
    "solution below\n",
    "\n",
    "solution below\n",
    "\n",
    "solution below"
   ]
  },
  {
   "cell_type": "code",
   "execution_count": null,
   "id": "2eedf106",
   "metadata": {},
   "outputs": [],
   "source": [
    "fig, ax = plt.subplots()\n",
    "p_grid = np.linspace(0, 10, 200)\n",
    "ax.plot(p_grid, supply(p_grid), label='supply')\n",
    "ax.plot(p_grid, demand(p_grid), label='demand')\n",
    "ax.set_xlabel(\"price\")\n",
    "ax.set_ylabel(\"quantity\")\n",
    "ax.legend(frameon=False, loc='upper center')\n",
    "plt.show()"
   ]
  },
  {
   "cell_type": "markdown",
   "id": "e3240781",
   "metadata": {},
   "source": [
    "The equilibrium price looks to be about 4.1."
   ]
  },
  {
   "cell_type": "markdown",
   "id": "1e9088f8",
   "metadata": {},
   "source": [
    "### Exercise 2\n",
    "\n",
    "Write a function that takes arguments $a, b, c, p$, with default values $a=1$, $b=0.5$ and $c=1$, and returns *excess demand*, which is defined as\n",
    "\n",
    "$$ e(p) = q_d(p) - q_s(p) $$"
   ]
  },
  {
   "cell_type": "code",
   "execution_count": null,
   "id": "6135b24e",
   "metadata": {},
   "outputs": [],
   "source": [
    "# Put your code here"
   ]
  },
  {
   "cell_type": "markdown",
   "id": "6db40390",
   "metadata": {},
   "source": [
    "solution below\n",
    "\n",
    "solution below\n",
    "\n",
    "solution below\n",
    "\n",
    "solution below\n",
    "\n",
    "solution below\n",
    "\n",
    "solution below\n",
    "\n",
    "solution below\n",
    "\n",
    "solution below\n",
    "\n",
    "solution below\n",
    "\n",
    "solution below\n",
    "\n",
    "solution below\n",
    "\n",
    "solution below"
   ]
  },
  {
   "cell_type": "code",
   "execution_count": null,
   "id": "e70310b2",
   "metadata": {},
   "outputs": [],
   "source": [
    "def excess_demand(p, a=1, b=0.5, c=1):\n",
    "    return demand(p, a, c) - supply(p, b)"
   ]
  },
  {
   "cell_type": "markdown",
   "id": "25378c2b",
   "metadata": {},
   "source": [
    "Now we test it:"
   ]
  },
  {
   "cell_type": "code",
   "execution_count": null,
   "id": "e4e7f9e7",
   "metadata": {},
   "outputs": [],
   "source": [
    "excess_demand(1.0)"
   ]
  },
  {
   "cell_type": "markdown",
   "id": "85c3f495",
   "metadata": {},
   "source": [
    "### Organizing our Code\n",
    "\n",
    "If we have many functions working with the same parameters, it's hard to know where to put the default values.\n",
    "\n",
    "As such, we normally collect them in a data structure, such as a class or a tuple.\n",
    "\n",
    "Personally, I normally used `namedtuple` instances, which are lighter than classes but easier to work with than tuples.\n",
    "\n",
    "Here's an example:"
   ]
  },
  {
   "cell_type": "code",
   "execution_count": null,
   "id": "40fcc605",
   "metadata": {},
   "outputs": [],
   "source": [
    "from collections import namedtuple\n",
    "\n",
    "Params = namedtuple('Params', ('a', 'b', 'c'))\n",
    "\n",
    "def create_market_params(a=1.0, b=0.5, c=1.0):\n",
    "    return Params(a=a, b=b, c=c)\n",
    "\n",
    "\n",
    "def supply(p, params):\n",
    "    a, b, c = params\n",
    "    return b * np.sqrt(p)\n",
    "\n",
    "def demand(p, params):\n",
    "    a, b, c = params\n",
    "    return a * np.exp(-p) + c\n",
    "\n",
    "def excess_demand(p, params):\n",
    "    a, b, c = params\n",
    "    return demand(p, params) - supply(p, params)"
   ]
  },
  {
   "cell_type": "markdown",
   "id": "a0c48cb7",
   "metadata": {},
   "source": [
    "### Exercise 3\n",
    "\n",
    "Using these functions, plot excess demand over the interval from $0.2$ up to $10$.  Also plot a horizontal line at zero.  The equilibrium price is where excess demand crosses zero."
   ]
  },
  {
   "cell_type": "code",
   "execution_count": null,
   "id": "937a2ead",
   "metadata": {},
   "outputs": [],
   "source": [
    "# Put your code here"
   ]
  },
  {
   "cell_type": "markdown",
   "id": "5483ef7d",
   "metadata": {},
   "source": [
    "solution below\n",
    "\n",
    "solution below\n",
    "\n",
    "solution below\n",
    "\n",
    "solution below\n",
    "\n",
    "solution below\n",
    "\n",
    "solution below\n",
    "\n",
    "solution below\n",
    "\n",
    "solution below\n",
    "\n",
    "solution below\n",
    "\n",
    "solution below\n",
    "\n",
    "solution below\n",
    "\n",
    "solution below"
   ]
  },
  {
   "cell_type": "code",
   "execution_count": null,
   "id": "7d46b9c8",
   "metadata": {},
   "outputs": [],
   "source": [
    "params = create_market_params()\n",
    "\n",
    "fig, ax = plt.subplots()\n",
    "p_grid = np.linspace(0, 10, 200)\n",
    "ax.plot(p_grid, excess_demand(p_grid, params), label='excess demand')\n",
    "ax.plot(p_grid, np.zeros_like(p_grid), 'k--')\n",
    "ax.set_xlabel(\"price\")\n",
    "ax.set_ylabel(\"quantity\")\n",
    "ax.legend()\n",
    "plt.show()"
   ]
  },
  {
   "cell_type": "markdown",
   "id": "d306581e",
   "metadata": {},
   "source": [
    "### Exercise 4"
   ]
  },
  {
   "cell_type": "markdown",
   "id": "b62c4a1a",
   "metadata": {},
   "source": [
    "Write a function that takes an instance of `Params` (i.e, a parameter vector) and returns a market clearing price via Newton's method."
   ]
  },
  {
   "cell_type": "code",
   "execution_count": null,
   "id": "2abadd65",
   "metadata": {},
   "outputs": [],
   "source": [
    "# Put your code here"
   ]
  },
  {
   "cell_type": "markdown",
   "id": "cc762042",
   "metadata": {},
   "source": [
    "solution below\n",
    "\n",
    "solution below\n",
    "\n",
    "solution below\n",
    "\n",
    "solution below\n",
    "\n",
    "solution below\n",
    "\n",
    "solution below\n",
    "\n",
    "solution below\n",
    "\n",
    "solution below\n",
    "\n",
    "solution below\n",
    "\n",
    "solution below\n",
    "\n",
    "solution below\n",
    "\n",
    "solution below"
   ]
  },
  {
   "cell_type": "code",
   "execution_count": null,
   "id": "6ffdadee",
   "metadata": {},
   "outputs": [],
   "source": [
    "def compute_equilibrium(params, price_init=2.0):\n",
    "    p_star = newton(lambda p: excess_demand(p, params), price_init)\n",
    "    return p_star"
   ]
  },
  {
   "cell_type": "code",
   "execution_count": null,
   "id": "da7ee226",
   "metadata": {},
   "outputs": [],
   "source": [
    "params = create_market_params()\n",
    "compute_equilibrium(params)"
   ]
  },
  {
   "cell_type": "markdown",
   "id": "0c77b255",
   "metadata": {},
   "source": [
    "This looks about right given the figures above."
   ]
  },
  {
   "cell_type": "markdown",
   "id": "9620f1c3",
   "metadata": {},
   "source": [
    "### Exercise 5\n",
    "\n",
    "For $b$ in a grid of 200 values between 0.5 and 1.0, plot the equilibrium price for each $b$.\n",
    "\n",
    "Does the curve that you plotted slope up or down?  Try to provide an explanation for what you see in terms of market equilibrium."
   ]
  },
  {
   "cell_type": "code",
   "execution_count": null,
   "id": "9a5bc6ce",
   "metadata": {},
   "outputs": [],
   "source": [
    "# Put your code here"
   ]
  },
  {
   "cell_type": "markdown",
   "id": "44a4e861",
   "metadata": {},
   "source": [
    "solution below\n",
    "\n",
    "solution below\n",
    "\n",
    "solution below\n",
    "\n",
    "solution below\n",
    "\n",
    "solution below\n",
    "\n",
    "solution below\n",
    "\n",
    "solution below\n",
    "\n",
    "solution below\n",
    "\n",
    "solution below\n",
    "\n",
    "solution below\n",
    "\n",
    "solution below\n",
    "\n",
    "solution below"
   ]
  },
  {
   "cell_type": "code",
   "execution_count": null,
   "id": "b003cae3",
   "metadata": {},
   "outputs": [],
   "source": [
    "b_grid = np.linspace(0.5, 1.0, 200)\n",
    "prices = np.empty_like(b_grid)\n",
    "for i, b in enumerate(b_grid):\n",
    "    params = create_market_params(b=b)\n",
    "    prices[i] = compute_equilibrium(params)"
   ]
  },
  {
   "cell_type": "code",
   "execution_count": null,
   "id": "c51ee648",
   "metadata": {},
   "outputs": [],
   "source": [
    "fig, ax = plt.subplots()\n",
    "ax.plot(b_grid, prices, label=\"equilibrium prices\")\n",
    "ax.set_xlabel(\"$b$\")\n",
    "ax.set_ylabel(\"price\")\n",
    "ax.legend()\n",
    "plt.show()"
   ]
  },
  {
   "cell_type": "markdown",
   "id": "9537d415",
   "metadata": {},
   "source": [
    "The curve slopes down because an increase in $b$ pushes up supply at any given price.  (In other words, the supply curve shifts up.)  \n",
    "\n",
    "With greater supply, the price tends to fall."
   ]
  },
  {
   "cell_type": "code",
   "execution_count": null,
   "id": "aad8ef8a",
   "metadata": {},
   "outputs": [],
   "source": []
  }
 ],
 "metadata": {
  "kernelspec": {
   "display_name": "Python 3 (ipykernel)",
   "language": "python",
   "name": "python3"
  }
 },
 "nbformat": 4,
 "nbformat_minor": 5
}
